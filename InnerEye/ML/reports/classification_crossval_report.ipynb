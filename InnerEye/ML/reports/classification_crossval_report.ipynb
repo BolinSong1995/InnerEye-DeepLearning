{
 "cells": [
  {
   "cell_type": "code",
   "execution_count": null,
   "metadata": {
    "pycharm": {
     "name": "#%%\n"
    }
   },
   "outputs": [],
   "source": [
    "# Default input parameter values, which will be overriden by papermill library through Python API.\n",
    "# This cell must carry the tag \"parameters\" in its metadata.\n",
    "data_folder = \"./\"\n",
    "innereye_path = \"/mnt/c/Users/dacoelh/Python/InnerEye-DeepLearning\"\n",
    "metrics_across_all_runs_file = data_folder + \"MetricsAcrossAllRuns_fulldata.csv\""
   ]
  },
  {
   "cell_type": "code",
   "execution_count": null,
   "metadata": {
    "pycharm": {
     "name": "#%%\n"
    }
   },
   "outputs": [],
   "source": [
    "import sys\n",
    "from pathlib import Path\n",
    "\n",
    "import matplotlib.pyplot as plt\n",
    "import pandas as pd\n",
    "\n",
    "print(f\"Adding to path: {innereye_path}\"),\n",
    "if str(innereye_path) not in sys.path:\n",
    "    sys.path.append(str(innereye_path))\n",
    "display(sys.path)\n",
    "    \n",
    "from InnerEye.ML.utils.metrics_constants import LoggingColumns\n",
    "from InnerEye.ML.reports.notebook_report import print_header\n",
    "from InnerEye.ML.reports.classification_report import plot_pr_and_roc_curves"
   ]
  },
  {
   "cell_type": "code",
   "execution_count": null,
   "metadata": {
    "pycharm": {
     "name": "#%%\n"
    }
   },
   "outputs": [],
   "source": [
    "df = pd.read_csv(metrics_across_all_runs_file)  # type: pd.DataFrame\n",
    "last_epoch = max(df[LoggingColumns.Epoch.value])\n",
    "df = df.loc[df[LoggingColumns.Epoch.value] == last_epoch]"
   ]
  },
  {
   "cell_type": "code",
   "execution_count": null,
   "metadata": {
    "pycharm": {
     "name": "#%%\n"
    }
   },
   "outputs": [],
   "source": [
    "df"
   ]
  },
  {
   "cell_type": "code",
   "execution_count": null,
   "metadata": {},
   "outputs": [],
   "source": [
    "dataset = pd.read_csv(data_folder + \"dataset.csv\")\n",
    "dataset"
   ]
  },
  {
   "cell_type": "code",
   "execution_count": null,
   "metadata": {},
   "outputs": [],
   "source": [
    "df_ = df.rename(columns={'subject': 'series'}).join(dataset[['subject', 'series', 'class_name']].set_index('series'), on='series', rsuffix='_')\n",
    "# df.rename(columns={'subject': 'series'})['series']#.join(dataset, on='series')"
   ]
  },
  {
   "cell_type": "code",
   "execution_count": null,
   "metadata": {},
   "outputs": [],
   "source": [
    "print(\"Number of unique subjects per fold:\")\n",
    "df_.groupby('cross_validation_split_index')['subject'].nunique()"
   ]
  },
  {
   "cell_type": "code",
   "execution_count": null,
   "metadata": {},
   "outputs": [],
   "source": [
    "pd.crosstab(df_.cross_validation_split_index, [df_.label, df_.class_name], margins=True)"
   ]
  },
  {
   "cell_type": "code",
   "execution_count": null,
   "metadata": {},
   "outputs": [],
   "source": [
    "import seaborn as sns\n",
    "\n",
    "sns.catplot(data=df, y='model_output', x='label', col='cross_validation_split_index', kind='box', aspect=.5);"
   ]
  },
  {
   "cell_type": "code",
   "execution_count": null,
   "metadata": {},
   "outputs": [],
   "source": [
    "plt.hist([df[df.label==0].model_output, df[df.label==1].model_output],\n",
    "#     plt.hist([logit(fold_df[fold_df.label==0].model_output), logit(fold_df[fold_df.label==1].model_output)],\n",
    "#              density=True, bins=np.linspace(-6, 6, 21), histtype='step');\n",
    "         density=True, bins=16, histtype='step', lw=2, label=['CVX0', 'CVX123']);\n",
    "plt.legend();"
   ]
  },
  {
   "cell_type": "code",
   "execution_count": null,
   "metadata": {},
   "outputs": [],
   "source": [
    "import numpy as np\n",
    "# plt.hist(df.model_output)\n",
    "def logit(x):\n",
    "    return np.log(x) - np.log(1.-x)\n",
    "crossval_split = LoggingColumns.CrossValidationSplitIndex.value\n",
    "n_splits = len(df[crossval_split].unique())\n",
    "_, axs = plt.subplots(1, n_splits, figsize=(15, 5), sharex=True, sharey=True)\n",
    "for (fold_index, fold_df), ax in zip(df.groupby(crossval_split), axs.flat):\n",
    "    ax.hist([fold_df[fold_df.label==0].model_output, fold_df[fold_df.label==1].model_output], bins=16,\n",
    "#     ax.hist([logit(fold_df[fold_df.label==0].model_output), logit(fold_df[fold_df.label==1].model_output)], bins=16,#np.linspace(-6, 6, 21),\n",
    "            density=True, histtype='step', lw=2, label=['CVX0', 'CVX123']);\n",
    "    ax.set_xlabel(f\"Fold {fold_index}\")\n",
    "plt.suptitle(\"Distributions of model outputs\")\n",
    "plt.legend(frameon=False);"
   ]
  },
  {
   "cell_type": "code",
   "execution_count": null,
   "metadata": {},
   "outputs": [],
   "source": [
    "from scipy.interpolate import interp1d\n",
    "\n",
    "def quantile(x, q, axis=-1):\n",
    "    x = np.sort(x, axis=axis)\n",
    "    rank = np.linspace(0, 1, x.shape[axis])\n",
    "    return interp1d(rank, x, axis=axis)(q)\n",
    "\n",
    "x = np.random.randn(3, 4)\n",
    "axis = 1\n",
    "print(np.sort(x, axis))\n",
    "quantile(x, [.25, .5, .75], axis=axis)"
   ]
  },
  {
   "cell_type": "code",
   "execution_count": null,
   "metadata": {
    "pycharm": {
     "name": "#%%\n"
    },
    "scrolled": false
   },
   "outputs": [],
   "source": [
    "from sklearn.metrics import roc_auc_score, roc_curve, precision_recall_curve\n",
    "\n",
    "for target, sub_df in df.groupby(LoggingColumns.Hue.value):\n",
    "    _, axs = plt.subplots(nrows=1, ncols=2, figsize=(10, 5))\n",
    "\n",
    "    grid = np.linspace(0, 1, 101)\n",
    "    tprs, prcs = [], []\n",
    "    \n",
    "    for fold_index, fold_df in sub_df.groupby(LoggingColumns.CrossValidationSplitIndex.value):\n",
    "        labels = fold_df[LoggingColumns.Label.value]\n",
    "        model_outputs = fold_df[LoggingColumns.ModelOutput.value]\n",
    "        fpr, tpr, thr = roc_curve(labels, model_outputs)\n",
    "        prc, rec, thr_pr = precision_recall_curve(labels, model_outputs)\n",
    "        opt_idx = np.argmax(tpr - fpr)\n",
    "        t50_idx = np.argmin(abs(thr - .5))\n",
    "        opt_idx_pr = np.argmin(abs(thr_pr - thr[opt_idx]))\n",
    "        t50_idx_pr = np.argmin(abs(thr_pr - .5))\n",
    "        auc = roc_auc_score(labels, model_outputs)\n",
    "        plot_pr_and_roc_curves(labels, model_outputs, axs, plot_kwargs=dict(\n",
    "            label=f\"Fold {fold_index} (AUC={auc:.2f})\", lw=1))\n",
    "        tprs.append(np.interp(grid, fpr, tpr))\n",
    "        prcs.append(np.interp(grid, rec[::-1], prc[::-1]))\n",
    "        \n",
    "        axs[0].plot(fpr[opt_idx], tpr[opt_idx], 'o', c=f'C{fold_index}', zorder=1000)\n",
    "        axs[1].plot(rec[opt_idx_pr], prc[opt_idx_pr], 'o', c=f'C{fold_index}', zorder=1000)\n",
    "#         axs[0].plot(fpr[t50_idx], tpr[t50_idx], 's', c=f'C{fold_index}', zorder=1000)\n",
    "#         axs[1].plot(rec[t50_idx_pr], prc[t50_idx_pr], 's', c=f'C{fold_index}', zorder=1000)\n",
    "        print(\"P(y = 1) =\", labels.mean())\n",
    "        print(\"P(y_hat > .5) =\", (model_outputs>.5).mean())\n",
    "        print((labels == (model_outputs>.5)).mean())\n",
    "    \n",
    "    tpr_lo, tpr_mid, tpr_hi = quantile(tprs, [.1, .5, .9], axis=0)\n",
    "    prc_lo, prc_mid, prc_hi = quantile(prcs, [.1, .5, .9], axis=0)\n",
    "    h1 = axs[0].fill_between(grid, tpr_lo, tpr_hi, color='k', alpha=.2, lw=0)\n",
    "    h2, = axs[0].plot(grid, tpr_mid, 'k', lw=2)\n",
    "    ax0handles, ax0labels = axs[0].get_legend_handles_labels()\n",
    "    ax0handles.append((h1, h2))\n",
    "    ax0labels.append(\"Median, 80% CI\")\n",
    "    \n",
    "    axs[1].fill_between(grid, prc_lo, prc_hi, color='k', alpha=.2, lw=0)\n",
    "    axs[1].plot(grid, prc_mid, 'k', lw=2)\n",
    "\n",
    "    prevalence = sub_df[LoggingColumns.Label.value].mean()\n",
    "    axs[0].plot([0, 1], [0, 1], ':k', zorder=-1)\n",
    "    axs[1].axhline(prevalence, ls=':', c='k', zorder=-1)\n",
    "    axs[0].set_xlabel(\"False positive rate\")\n",
    "    axs[0].set_ylabel(\"True positive rate\")\n",
    "    axs[1].set_xlabel(\"Recall\")\n",
    "    axs[1].set_ylabel(\"Precision\")\n",
    "    axs[0].legend(ax0handles, ax0labels, frameon=False)"
   ]
  }
 ],
 "metadata": {
  "celltoolbar": "Tags",
  "kernelspec": {
   "display_name": "Python 3",
   "language": "python",
   "name": "python3"
  },
  "language_info": {
   "codemirror_mode": {
    "name": "ipython",
    "version": 3
   },
   "file_extension": ".py",
   "mimetype": "text/x-python",
   "name": "python",
   "nbconvert_exporter": "python",
   "pygments_lexer": "ipython3",
   "version": "3.7.3"
  }
 },
 "nbformat": 4,
 "nbformat_minor": 4
}